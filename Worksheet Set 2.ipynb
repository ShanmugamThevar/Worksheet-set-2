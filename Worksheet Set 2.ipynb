{
 "cells": [
  {
   "cell_type": "markdown",
   "metadata": {},
   "source": [
    "# Statistics"
   ]
  },
  {
   "cell_type": "markdown",
   "metadata": {},
   "source": [
    "1. What represent a population parameter?\n",
    "\n",
    "Ans. C) both"
   ]
  },
  {
   "cell_type": "markdown",
   "metadata": {},
   "source": [
    "2. What will be median of following set of scores (18,6,12,10,15)?\n",
    "\n",
    "Ans. C) 12"
   ]
  },
  {
   "cell_type": "markdown",
   "metadata": {},
   "source": [
    "3. What is standard deviation?\n",
    "\n",
    "Ans. D) All of the above"
   ]
  },
  {
   "cell_type": "markdown",
   "metadata": {},
   "source": [
    "4. The intervals should be ______ in a grouped frequency distribution\n",
    "\n",
    "Ans. C) Both of these"
   ]
  },
  {
   "cell_type": "markdown",
   "metadata": {},
   "source": [
    "5. What is the goal of descriptive statistics?\n",
    "\n",
    "Ans. D) All of these"
   ]
  },
  {
   "cell_type": "markdown",
   "metadata": {},
   "source": [
    "6. A set of data organized in a participant by variables format is called\n",
    "\n",
    "Ans. B) Data set"
   ]
  },
  {
   "cell_type": "markdown",
   "metadata": {},
   "source": [
    "7. In multiple regression,_______ dependent variables are used\n",
    "\n",
    "Ans. C) 1"
   ]
  },
  {
   "cell_type": "markdown",
   "metadata": {},
   "source": [
    "8. Which of the following is used when you want to visually examine the relationship between 2 quantitative \n",
    "variables?\n",
    "\n",
    "Ans. B) Scatterplot"
   ]
  },
  {
   "cell_type": "markdown",
   "metadata": {},
   "source": [
    "9. Two or more groups means are compared by using\n",
    "\n",
    "Ans. D) Analysis of variance"
   ]
  },
  {
   "cell_type": "markdown",
   "metadata": {},
   "source": [
    "10. _______is a raw score which has been transformed into standard deviation units?\n",
    "\n",
    "Ans. A) Z-score"
   ]
  },
  {
   "cell_type": "markdown",
   "metadata": {},
   "source": [
    "11. _______is the value calculated when you want the arithmetic average?\n",
    "\n",
    "Ans. C) mean"
   ]
  },
  {
   "cell_type": "markdown",
   "metadata": {},
   "source": [
    "12. Find the mean of these set of number (4,6,7,9,2000000)?\n",
    "\n",
    "Ans. D) 400005.2"
   ]
  },
  {
   "cell_type": "markdown",
   "metadata": {},
   "source": [
    "13. _______ is a measure of central tendency that takes into account the magnitude of scores?\n",
    "\n",
    "Ans. C) Median"
   ]
  },
  {
   "cell_type": "markdown",
   "metadata": {},
   "source": [
    "14. ______ focuses on describing or explaining data whereas ______involves going beyond immediate \n",
    "data and making inferences\n",
    "\n",
    "Ans. A) Descriptive and inferences"
   ]
  },
  {
   "cell_type": "markdown",
   "metadata": {},
   "source": [
    "15. What is the formula for range?\n",
    "\n",
    "Ans. D) H-L"
   ]
  },
  {
   "cell_type": "code",
   "execution_count": null,
   "metadata": {},
   "outputs": [],
   "source": []
  },
  {
   "cell_type": "code",
   "execution_count": null,
   "metadata": {},
   "outputs": [],
   "source": []
  },
  {
   "cell_type": "markdown",
   "metadata": {},
   "source": [
    "# SQL"
   ]
  },
  {
   "cell_type": "markdown",
   "metadata": {},
   "source": [
    "1. Which of the following constraint requires that there should not be duplicate entries?\n",
    "\n",
    "Ans. D) Unique"
   ]
  },
  {
   "cell_type": "markdown",
   "metadata": {},
   "source": [
    "2. Which of the following constraint allows null values in a column?\n",
    "\n",
    "Ans. C) Null"
   ]
  },
  {
   "cell_type": "markdown",
   "metadata": {},
   "source": [
    "3. Which of the following statements are true regarding Primary Key?\n",
    "\n",
    "Ans. A) Each entry in the primary key uniquely identifies each entry or row in the table"
   ]
  },
  {
   "cell_type": "markdown",
   "metadata": {},
   "source": [
    "4. Which of the following statements are true regarding Unique Key?\n",
    "\n",
    "Ans. C) Multiple columns can make a single unique key together"
   ]
  },
  {
   "cell_type": "markdown",
   "metadata": {},
   "source": [
    "5. Which of the following is/are example of referential constraint?\n",
    "\n",
    "Ans. D) All of them"
   ]
  },
  {
   "cell_type": "markdown",
   "metadata": {},
   "source": [
    "6. How many foreign keys are there in the Supplier table?\n",
    "\n",
    "Ans. B) 3"
   ]
  },
  {
   "cell_type": "markdown",
   "metadata": {},
   "source": [
    "7. The type of relationship between Supplier table and Product table is:\n",
    "\n",
    "Ans. B) many to one"
   ]
  },
  {
   "cell_type": "markdown",
   "metadata": {},
   "source": [
    "8. The type of relationship between Order table and Headquarter table is:\n",
    "\n",
    "Ans. C) one to one"
   ]
  },
  {
   "cell_type": "markdown",
   "metadata": {},
   "source": [
    "9. Which of the following is a foreign key in Delivery table?\n",
    "\n",
    "Ans. D) None of them"
   ]
  },
  {
   "cell_type": "markdown",
   "metadata": {},
   "source": [
    "10. The number of foreign keys in order details is:\n",
    "\n",
    "Ans. B) 1"
   ]
  },
  {
   "cell_type": "markdown",
   "metadata": {},
   "source": [
    "11. The type of relationship between Order Detail table and Product table is:\n",
    "\n",
    "Ans. A) one to many"
   ]
  },
  {
   "cell_type": "markdown",
   "metadata": {},
   "source": [
    "12. DDL statements perform operation on which of the following database objects?\n",
    "\n",
    "Ans. C) Table"
   ]
  },
  {
   "cell_type": "markdown",
   "metadata": {},
   "source": [
    "13. Which of the following statement is used to enter rows in a table?\n",
    "\n",
    "Ans. A) Insert in to"
   ]
  },
  {
   "cell_type": "markdown",
   "metadata": {},
   "source": [
    "14. Which of the following is/are entity constraints in SQL?\n",
    "\n",
    "Ans. B) Unique & C) Primary Key"
   ]
  },
  {
   "cell_type": "markdown",
   "metadata": {},
   "source": [
    "15. Which of the following statements is an example of semantic Constraint?\n",
    "\n",
    "Ans. A) A blood group can contain one of the following values - A, B, AB and O.\n",
    "     \n",
    "     B) A blood group can only contain characters"
   ]
  },
  {
   "cell_type": "code",
   "execution_count": null,
   "metadata": {},
   "outputs": [],
   "source": []
  },
  {
   "cell_type": "code",
   "execution_count": null,
   "metadata": {},
   "outputs": [],
   "source": []
  },
  {
   "cell_type": "markdown",
   "metadata": {},
   "source": [
    "# MACHINE LEARNING"
   ]
  },
  {
   "cell_type": "markdown",
   "metadata": {},
   "source": [
    "1. Movie Recommendation systems are an example of:\n",
    "i) Classification\n",
    "ii) Clustering\n",
    "iii) Regression\n",
    " \n",
    "Ans. a) 2 Only"
   ]
  },
  {
   "cell_type": "markdown",
   "metadata": {},
   "source": [
    "2. Sentiment Analysis is an example of:\n",
    "i) Regression\n",
    "ii) Classification\n",
    "iii) Clustering\n",
    "iv) Reinforcement \n",
    "\n",
    "Ans. d) 1, 2 and 4"
   ]
  },
  {
   "cell_type": "markdown",
   "metadata": {},
   "source": [
    "3. Can decision trees be used for performing clustering?\n",
    "\n",
    "Ans. a) True"
   ]
  },
  {
   "cell_type": "markdown",
   "metadata": {},
   "source": [
    "4. Which of the following is the most appropriate strategy for data cleaning before performing clustering\n",
    "analysis, given less than desirable number of data points:\n",
    "i) Capping and flooring of variables\n",
    "ii) Removal of outliers\n",
    "\n",
    "Ans. a) 1 only"
   ]
  },
  {
   "cell_type": "markdown",
   "metadata": {},
   "source": [
    "5. What is the minimum no. of variables/ features required to perform clustering?\n",
    "\n",
    "Ans. b) 1"
   ]
  },
  {
   "cell_type": "markdown",
   "metadata": {},
   "source": [
    "6. For two runs of K-Mean clustering is it expected to get same clustering results?\n",
    "\n",
    "Ans. b) No"
   ]
  },
  {
   "cell_type": "markdown",
   "metadata": {},
   "source": [
    "7. Is it possible that Assignment of observations to clusters does not change between successive\n",
    "iterations in K-Means?\n",
    "\n",
    "Ans. a) Yes"
   ]
  },
  {
   "cell_type": "markdown",
   "metadata": {},
   "source": [
    "8. Which of the following can act as possible termination conditions in K-Means?\n",
    "i) For a fixed number of iterations.\n",
    "ii) Assignment of observations to clusters does not change between iterations. Except for cases \n",
    "witha bad local minimum.\n",
    "iii) Centroids do not change between successive iterations.\n",
    "iv) Terminate when RSS falls below a threshold.\n",
    "\n",
    "Ans. d) All of the above"
   ]
  },
  {
   "cell_type": "markdown",
   "metadata": {},
   "source": [
    "9. Which of the following can act as possible termination conditions in K-Means?\n",
    "i) K- Means clustering algorithm\n",
    "ii) Agglomerative clustering algorithm\n",
    "iii) Expectation-Maximization clustering algorithm\n",
    "iv) Diverse clustering algorithm\n",
    "\n",
    "Ans. d) 1 and 3"
   ]
  },
  {
   "cell_type": "markdown",
   "metadata": {},
   "source": [
    "10. Which of the following algorithms is most sensitive to outliers?\n",
    "\n",
    "Ans. a) K-means clustering algorithm"
   ]
  },
  {
   "cell_type": "markdown",
   "metadata": {},
   "source": [
    "11. How can Clustering (Unsupervised Learning) be used to improve the accuracy of Linear Regression\n",
    "model (Supervised Learning):\n",
    "i) Creating different models for different cluster groups.\n",
    "ii) Creating an input feature for cluster ids as an ordinal variable.\n",
    "iii) Creating an input feature for cluster centroids as a continuous variable.\n",
    "iv) Creating an input feature for cluster size as a continuous variable.\n",
    "\n",
    "Ans. d) All of the above"
   ]
  },
  {
   "cell_type": "markdown",
   "metadata": {},
   "source": [
    "12. What could be the possible reason(s) for producing two different dendrograms using agglomerative\n",
    "clustering algorithms for the same dataset?\n",
    "\n",
    "Ans. d) All of the above\n"
   ]
  },
  {
   "cell_type": "markdown",
   "metadata": {},
   "source": [
    "13. Is K sensitive to outliers?\n",
    "\n",
    "Ans. Yes, the K-means clustering algorithm is sensitive to outliers, because a mean is easily influenced by extreme values and thus cannot represent the correct cluster center."
   ]
  },
  {
   "cell_type": "markdown",
   "metadata": {},
   "source": [
    "14. Why is K means better?\n",
    "\n",
    "Ans. K-means clustering is a type of unsupervised learning, which is used when you have unlabeled data. K-means becomes a great solution for pre-clustering, reducing the space into disjoint smaller sub-spaces where other clustering algorithms can be applied. K-means is the simplest."
   ]
  },
  {
   "cell_type": "markdown",
   "metadata": {},
   "source": [
    "15. Is K means a deterministic algorithm?\n",
    "\n",
    "Ans. No, K-means clustering is based on a non-deterministic algorithm. The non-deterministic nature of K-Means is due to its random selection of data points as initial centroids."
   ]
  },
  {
   "cell_type": "code",
   "execution_count": null,
   "metadata": {},
   "outputs": [],
   "source": []
  }
 ],
 "metadata": {
  "kernelspec": {
   "display_name": "Python 3",
   "language": "python",
   "name": "python3"
  },
  "language_info": {
   "codemirror_mode": {
    "name": "ipython",
    "version": 3
   },
   "file_extension": ".py",
   "mimetype": "text/x-python",
   "name": "python",
   "nbconvert_exporter": "python",
   "pygments_lexer": "ipython3",
   "version": "3.8.5"
  }
 },
 "nbformat": 4,
 "nbformat_minor": 4
}
